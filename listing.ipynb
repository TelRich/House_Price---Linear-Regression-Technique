{
 "cells": [
  {
   "cell_type": "code",
   "execution_count": 102,
   "metadata": {},
   "outputs": [],
   "source": [
    "import pandas as pd\n",
    "import numpy as np\n",
    "import matplotlib.pyplot as plt\n",
    "import seaborn as sb\n",
    "from sklearn.model_selection import KFold\n",
    "from sklearn.metrics import mean_squared_error\n",
    "from sklearn.linear_model import LinearRegression"
   ]
  },
  {
   "cell_type": "code",
   "execution_count": 110,
   "metadata": {},
   "outputs": [
    {
     "data": {
      "text/html": [
       "<div>\n",
       "<style scoped>\n",
       "    .dataframe tbody tr th:only-of-type {\n",
       "        vertical-align: middle;\n",
       "    }\n",
       "\n",
       "    .dataframe tbody tr th {\n",
       "        vertical-align: top;\n",
       "    }\n",
       "\n",
       "    .dataframe thead th {\n",
       "        text-align: right;\n",
       "    }\n",
       "</style>\n",
       "<table border=\"1\" class=\"dataframe\">\n",
       "  <thead>\n",
       "    <tr style=\"text-align: right;\">\n",
       "      <th></th>\n",
       "      <th>Order</th>\n",
       "      <th>PID</th>\n",
       "      <th>MS SubClass</th>\n",
       "      <th>MS Zoning</th>\n",
       "      <th>Lot Frontage</th>\n",
       "      <th>Lot Area</th>\n",
       "      <th>Street</th>\n",
       "      <th>Alley</th>\n",
       "      <th>Lot Shape</th>\n",
       "      <th>Land Contour</th>\n",
       "      <th>...</th>\n",
       "      <th>Pool Area</th>\n",
       "      <th>Pool QC</th>\n",
       "      <th>Fence</th>\n",
       "      <th>Misc Feature</th>\n",
       "      <th>Misc Val</th>\n",
       "      <th>Mo Sold</th>\n",
       "      <th>Yr Sold</th>\n",
       "      <th>Sale Type</th>\n",
       "      <th>Sale Condition</th>\n",
       "      <th>SalePrice</th>\n",
       "    </tr>\n",
       "  </thead>\n",
       "  <tbody>\n",
       "    <tr>\n",
       "      <th>0</th>\n",
       "      <td>1</td>\n",
       "      <td>526301100</td>\n",
       "      <td>20</td>\n",
       "      <td>RL</td>\n",
       "      <td>141.0</td>\n",
       "      <td>31770</td>\n",
       "      <td>Pave</td>\n",
       "      <td>NaN</td>\n",
       "      <td>IR1</td>\n",
       "      <td>Lvl</td>\n",
       "      <td>...</td>\n",
       "      <td>0</td>\n",
       "      <td>NaN</td>\n",
       "      <td>NaN</td>\n",
       "      <td>NaN</td>\n",
       "      <td>0</td>\n",
       "      <td>5</td>\n",
       "      <td>2010</td>\n",
       "      <td>WD</td>\n",
       "      <td>Normal</td>\n",
       "      <td>215000</td>\n",
       "    </tr>\n",
       "    <tr>\n",
       "      <th>1</th>\n",
       "      <td>2</td>\n",
       "      <td>526350040</td>\n",
       "      <td>20</td>\n",
       "      <td>RH</td>\n",
       "      <td>80.0</td>\n",
       "      <td>11622</td>\n",
       "      <td>Pave</td>\n",
       "      <td>NaN</td>\n",
       "      <td>Reg</td>\n",
       "      <td>Lvl</td>\n",
       "      <td>...</td>\n",
       "      <td>0</td>\n",
       "      <td>NaN</td>\n",
       "      <td>MnPrv</td>\n",
       "      <td>NaN</td>\n",
       "      <td>0</td>\n",
       "      <td>6</td>\n",
       "      <td>2010</td>\n",
       "      <td>WD</td>\n",
       "      <td>Normal</td>\n",
       "      <td>105000</td>\n",
       "    </tr>\n",
       "    <tr>\n",
       "      <th>2</th>\n",
       "      <td>3</td>\n",
       "      <td>526351010</td>\n",
       "      <td>20</td>\n",
       "      <td>RL</td>\n",
       "      <td>81.0</td>\n",
       "      <td>14267</td>\n",
       "      <td>Pave</td>\n",
       "      <td>NaN</td>\n",
       "      <td>IR1</td>\n",
       "      <td>Lvl</td>\n",
       "      <td>...</td>\n",
       "      <td>0</td>\n",
       "      <td>NaN</td>\n",
       "      <td>NaN</td>\n",
       "      <td>Gar2</td>\n",
       "      <td>12500</td>\n",
       "      <td>6</td>\n",
       "      <td>2010</td>\n",
       "      <td>WD</td>\n",
       "      <td>Normal</td>\n",
       "      <td>172000</td>\n",
       "    </tr>\n",
       "    <tr>\n",
       "      <th>3</th>\n",
       "      <td>4</td>\n",
       "      <td>526353030</td>\n",
       "      <td>20</td>\n",
       "      <td>RL</td>\n",
       "      <td>93.0</td>\n",
       "      <td>11160</td>\n",
       "      <td>Pave</td>\n",
       "      <td>NaN</td>\n",
       "      <td>Reg</td>\n",
       "      <td>Lvl</td>\n",
       "      <td>...</td>\n",
       "      <td>0</td>\n",
       "      <td>NaN</td>\n",
       "      <td>NaN</td>\n",
       "      <td>NaN</td>\n",
       "      <td>0</td>\n",
       "      <td>4</td>\n",
       "      <td>2010</td>\n",
       "      <td>WD</td>\n",
       "      <td>Normal</td>\n",
       "      <td>244000</td>\n",
       "    </tr>\n",
       "    <tr>\n",
       "      <th>4</th>\n",
       "      <td>5</td>\n",
       "      <td>527105010</td>\n",
       "      <td>60</td>\n",
       "      <td>RL</td>\n",
       "      <td>74.0</td>\n",
       "      <td>13830</td>\n",
       "      <td>Pave</td>\n",
       "      <td>NaN</td>\n",
       "      <td>IR1</td>\n",
       "      <td>Lvl</td>\n",
       "      <td>...</td>\n",
       "      <td>0</td>\n",
       "      <td>NaN</td>\n",
       "      <td>MnPrv</td>\n",
       "      <td>NaN</td>\n",
       "      <td>0</td>\n",
       "      <td>3</td>\n",
       "      <td>2010</td>\n",
       "      <td>WD</td>\n",
       "      <td>Normal</td>\n",
       "      <td>189900</td>\n",
       "    </tr>\n",
       "  </tbody>\n",
       "</table>\n",
       "<p>5 rows × 82 columns</p>\n",
       "</div>"
      ],
      "text/plain": [
       "   Order        PID  MS SubClass MS Zoning  Lot Frontage  Lot Area Street  \\\n",
       "0      1  526301100           20        RL         141.0     31770   Pave   \n",
       "1      2  526350040           20        RH          80.0     11622   Pave   \n",
       "2      3  526351010           20        RL          81.0     14267   Pave   \n",
       "3      4  526353030           20        RL          93.0     11160   Pave   \n",
       "4      5  527105010           60        RL          74.0     13830   Pave   \n",
       "\n",
       "  Alley Lot Shape Land Contour  ... Pool Area Pool QC  Fence Misc Feature  \\\n",
       "0   NaN       IR1          Lvl  ...         0     NaN    NaN          NaN   \n",
       "1   NaN       Reg          Lvl  ...         0     NaN  MnPrv          NaN   \n",
       "2   NaN       IR1          Lvl  ...         0     NaN    NaN         Gar2   \n",
       "3   NaN       Reg          Lvl  ...         0     NaN    NaN          NaN   \n",
       "4   NaN       IR1          Lvl  ...         0     NaN  MnPrv          NaN   \n",
       "\n",
       "  Misc Val Mo Sold Yr Sold Sale Type  Sale Condition  SalePrice  \n",
       "0        0       5    2010       WD           Normal     215000  \n",
       "1        0       6    2010       WD           Normal     105000  \n",
       "2    12500       6    2010       WD           Normal     172000  \n",
       "3        0       4    2010       WD           Normal     244000  \n",
       "4        0       3    2010       WD           Normal     189900  \n",
       "\n",
       "[5 rows x 82 columns]"
      ]
     },
     "execution_count": 110,
     "metadata": {},
     "output_type": "execute_result"
    }
   ],
   "source": [
    "data = pd.read_csv('AmesHousing.txt', delimiter='\\t')\n",
    "data.head()"
   ]
  },
  {
   "cell_type": "code",
   "execution_count": 106,
   "metadata": {},
   "outputs": [],
   "source": [
    "train= data[:1460]\n",
    "test = data[1460:]"
   ]
  },
  {
   "cell_type": "code",
   "execution_count": 88,
   "metadata": {},
   "outputs": [
    {
     "data": {
      "text/plain": [
       "57088.25161263909"
      ]
     },
     "execution_count": 88,
     "metadata": {},
     "output_type": "execute_result"
    }
   ],
   "source": [
    "def transform_features(data):\n",
    "    return data\n",
    "\n",
    "def select_features(data):\n",
    "    return data[[\"Gr Liv Area\", \"SalePrice\"]]\n",
    "\n",
    "def train_and_test(data):\n",
    "    train= data[:1460]\n",
    "    test = data[1460:]\n",
    "    \n",
    "    numeric_train = train.select_dtypes(include=['integer', 'float'])\n",
    "    numeric_test = test.select_dtypes(include= ['integer', 'float'])\n",
    "    \n",
    "    features = numeric_train.columns.drop(\"SalePrice\")\n",
    "    linreg = LinearRegression()\n",
    "    linreg.fit(train[features], train['SalePrice'])\n",
    "    predictions = linreg.predict(test[features])\n",
    "    mse = mean_squared_error(test['SalePrice'], predictions)\n",
    "    rmse = np.sqrt(mse)\n",
    "    \n",
    "    return rmse\n",
    "\n",
    "transform_data = transform_features(data)\n",
    "filtered_data = select_features(transform_data)\n",
    "rmse = train_and_test(filtered_data)\n",
    "\n",
    "rmse    \n",
    "    "
   ]
  },
  {
   "cell_type": "markdown",
   "metadata": {},
   "source": [
    "### Feature Engineering\n",
    "\n",
    "#### Cleaning Feature"
   ]
  },
  {
   "cell_type": "code",
   "execution_count": 89,
   "metadata": {},
   "outputs": [
    {
     "data": {
      "text/plain": [
       "Index(['Lot Frontage', 'Alley', 'Fireplace Qu', 'Garage Type', 'Garage Yr Blt',\n",
       "       'Garage Finish', 'Garage Qual', 'Garage Cond', 'Pool QC', 'Fence',\n",
       "       'Misc Feature'],\n",
       "      dtype='object')"
      ]
     },
     "execution_count": 89,
     "metadata": {},
     "output_type": "execute_result"
    }
   ],
   "source": [
    "# Dropping column with 5% or more missing values \n",
    "\n",
    "# Columns with less than 5% missing value\n",
    "five_pct = data.shape[0] * 0.05\n",
    "missing = data.isnull().sum() \n",
    "missing = missing[missing > five_pct]\n",
    "missing.index\n"
   ]
  },
  {
   "cell_type": "code",
   "execution_count": 90,
   "metadata": {},
   "outputs": [],
   "source": [
    "# Dropping columns with missing values >= 5%\n",
    "data = data.drop(missing.index, axis = 1)"
   ]
  },
  {
   "cell_type": "code",
   "execution_count": 91,
   "metadata": {},
   "outputs": [],
   "source": [
    "# Drop text columns with one or more missing value\n",
    "# Filtering for text column with missing value\n",
    "text_missing = data.select_dtypes(include=['object']).isnull().sum()\n",
    "text_missing = text_missing[text_missing > 0]\n",
    "\n",
    "# Dropping \n",
    "data = data.drop(text_missing.index, axis = 1)"
   ]
  },
  {
   "cell_type": "code",
   "execution_count": 92,
   "metadata": {},
   "outputs": [
    {
     "data": {
      "text/plain": [
       "Mas Vnr Area      23\n",
       "BsmtFin SF 1       1\n",
       "BsmtFin SF 2       1\n",
       "Bsmt Unf SF        1\n",
       "Total Bsmt SF      1\n",
       "Bsmt Full Bath     2\n",
       "Bsmt Half Bath     2\n",
       "Garage Cars        1\n",
       "Garage Area        1\n",
       "dtype: int64"
      ]
     },
     "execution_count": 92,
     "metadata": {},
     "output_type": "execute_result"
    }
   ],
   "source": [
    "# Fill numerical column with the most common value in that column (mode)\n",
    "num_missing = data.select_dtypes(['int', 'float']).isnull().sum()\n",
    "num_missing = num_missing[(num_missing < five_pct) & (num_missing > 0)]\n",
    "num_missing"
   ]
  },
  {
   "cell_type": "code",
   "execution_count": 93,
   "metadata": {},
   "outputs": [
    {
     "data": {
      "text/plain": [
       "{'Mas Vnr Area': 0.0,\n",
       " 'BsmtFin SF 1': 0.0,\n",
       " 'BsmtFin SF 2': 0.0,\n",
       " 'Bsmt Unf SF': 0.0,\n",
       " 'Total Bsmt SF': 0.0,\n",
       " 'Bsmt Full Bath': 0.0,\n",
       " 'Bsmt Half Bath': 0.0,\n",
       " 'Garage Cars': 2.0,\n",
       " 'Garage Area': 0.0}"
      ]
     },
     "execution_count": 93,
     "metadata": {},
     "output_type": "execute_result"
    }
   ],
   "source": [
    "# Create dictionaries of column and mode value\n",
    "replace = data[num_missing.index].mode().to_dict(orient='records')[0]\n",
    "replace"
   ]
  },
  {
   "cell_type": "code",
   "execution_count": 94,
   "metadata": {},
   "outputs": [
    {
     "data": {
      "text/plain": [
       "0    64\n",
       "dtype: int64"
      ]
     },
     "execution_count": 94,
     "metadata": {},
     "output_type": "execute_result"
    }
   ],
   "source": [
    "# Fill columns with mode\n",
    "data = data.fillna(replace)\n",
    "\n",
    "# Check for missing value again\n",
    "data.isnull().sum().value_counts()"
   ]
  },
  {
   "cell_type": "markdown",
   "metadata": {},
   "source": [
    "#### Creating Feature"
   ]
  },
  {
   "cell_type": "code",
   "execution_count": 97,
   "metadata": {},
   "outputs": [
    {
     "data": {
      "text/plain": [
       "2180   -1\n",
       "dtype: int64"
      ]
     },
     "execution_count": 97,
     "metadata": {},
     "output_type": "execute_result"
    }
   ],
   "source": [
    "# Create year the house was sold and years since remodel\n",
    "years_sold = data['Yr Sold'] - data['Year Built']\n",
    "years_since_remod = data['Yr Sold'] - data['Year Remod/Add']\n",
    "\n",
    "# Checking for negative result from the new variable\n",
    "years_sold[years_sold < 0]"
   ]
  },
  {
   "cell_type": "code",
   "execution_count": 98,
   "metadata": {},
   "outputs": [
    {
     "data": {
      "text/plain": [
       "1702   -1\n",
       "2180   -2\n",
       "2181   -1\n",
       "dtype: int64"
      ]
     },
     "execution_count": 98,
     "metadata": {},
     "output_type": "execute_result"
    }
   ],
   "source": [
    "years_since_remod[years_since_remod < 0]\n"
   ]
  },
  {
   "cell_type": "code",
   "execution_count": 100,
   "metadata": {},
   "outputs": [],
   "source": [
    "# Create new column for the new features created \n",
    "data['Years Before Sale'] = years_sold\n",
    "data['Years Since Remod'] = years_since_remod\n",
    "\n",
    "# Dropping rows with negative values as seen earlier\n",
    "data = data.drop([1702, 2180, 2181], axis= 0)\n",
    "\n",
    "# Drop the columns\n",
    "data = data.drop(['Year Built', 'Year Remod/Add'], axis = 1)"
   ]
  },
  {
   "cell_type": "code",
   "execution_count": 101,
   "metadata": {},
   "outputs": [],
   "source": [
    "# Drop columns that aren't useful for machine learning\n",
    "data = data.drop(['PID', 'Order'], axis=1)\n",
    "\n",
    "# Drop columns that leak data about the final sale\n",
    "data = data.drop(['Mo Sold', 'Sale Condition', 'Sale Type', 'Yr Sold'], axis=1)"
   ]
  },
  {
   "cell_type": "code",
   "execution_count": 111,
   "metadata": {},
   "outputs": [
    {
     "data": {
      "text/plain": [
       "55275.36731241307"
      ]
     },
     "execution_count": 111,
     "metadata": {},
     "output_type": "execute_result"
    }
   ],
   "source": [
    "# Update Function\n",
    "def transform_features(data):\n",
    "    five_pct = data.shape[0] * 0.05\n",
    "    missing = data.isnull().sum() \n",
    "    missing = missing[missing > five_pct]\n",
    "    data = data.drop(missing.index, axis = 1)\n",
    "    \n",
    "    text_missing = data.select_dtypes(include=['object']).isnull().sum()\n",
    "    text_missing = text_missing[text_missing > 0]\n",
    "    data = data.drop(text_missing.index, axis = 1)\n",
    "    \n",
    "    num_missing = data.select_dtypes(['int', 'float']).isnull().sum()\n",
    "    num_missing = num_missing[(num_missing < five_pct) & (num_missing > 0)]\n",
    "    replace = data[num_missing.index].mode().to_dict(orient='records')[0]\n",
    "    data = data.fillna(replace)\n",
    "    \n",
    "    years_sold = data['Yr Sold'] - data['Year Built']\n",
    "    years_since_remod = data['Yr Sold'] - data['Year Remod/Add']\n",
    "    data['Years Before Sale'] = years_sold\n",
    "    data['Years Since Remod'] = years_since_remod\n",
    "    data = data.drop([1702, 2180, 2181], axis= 0)\n",
    "    \n",
    "    data = data.drop(['Mo Sold', 'Sale Condition', 'Sale Type', 'Yr Sold', 'Year Built', 'Year Remod/Add',\n",
    "                      'PID', 'Order'], axis=1)\n",
    "    \n",
    "    return data\n",
    "\n",
    "def select_features(data):\n",
    "    return data[[\"Gr Liv Area\", \"SalePrice\"]]\n",
    "\n",
    "def train_and_test(data):\n",
    "    train= data[:1460]\n",
    "    test = data[1460:]\n",
    "    \n",
    "    numeric_train = train.select_dtypes(include=['integer', 'float'])\n",
    "    numeric_test = test.select_dtypes(include= ['integer', 'float'])\n",
    "    \n",
    "    features = numeric_train.columns.drop(\"SalePrice\")\n",
    "    linreg = LinearRegression()\n",
    "    linreg.fit(train[features], train['SalePrice'])\n",
    "    predictions = linreg.predict(test[features])\n",
    "    mse = mean_squared_error(test['SalePrice'], predictions)\n",
    "    rmse = np.sqrt(mse)\n",
    "    \n",
    "    return rmse\n",
    "\n",
    "transform_data = transform_features(data)\n",
    "filtered_data = select_features(transform_data)\n",
    "rmse = train_and_test(filtered_data)\n",
    "\n",
    "rmse    \n",
    "    "
   ]
  },
  {
   "cell_type": "markdown",
   "metadata": {},
   "source": [
    "### Feature Selection\n"
   ]
  },
  {
   "cell_type": "code",
   "execution_count": 128,
   "metadata": {},
   "outputs": [
    {
     "data": {
      "text/plain": [
       "<AxesSubplot:>"
      ]
     },
     "execution_count": 128,
     "metadata": {},
     "output_type": "execute_result"
    },
    {
     "data": {
      "image/png": "[encoded data removed]",
      "text/plain": [
       "<Figure size 640x480 with 2 Axes>"
      ]
     },
     "metadata": {},
     "output_type": "display_data"
    }
   ],
   "source": [
    "# Heatmap of numerical feature in the training dataset\n",
    "num_features = transform_data.select_dtypes(['int', 'float'])\n",
    "corr_mat = num_features.corr()\n",
    "sb.heatmap(data=corr_mat)"
   ]
  },
  {
   "cell_type": "code",
   "execution_count": 129,
   "metadata": {},
   "outputs": [
    {
     "data": {
      "text/plain": [
       "BsmtFin SF 2         0.006127\n",
       "Misc Val             0.019273\n",
       "3Ssn Porch           0.032268\n",
       "Bsmt Half Bath       0.035875\n",
       "Low Qual Fin SF      0.037629\n",
       "Pool Area            0.068438\n",
       "MS SubClass          0.085128\n",
       "Overall Cond         0.101540\n",
       "Screen Porch         0.112280\n",
       "Kitchen AbvGr        0.119760\n",
       "Enclosed Porch       0.128685\n",
       "Bedroom AbvGr        0.143916\n",
       "Bsmt Unf SF          0.182751\n",
       "Lot Area             0.267520\n",
       "2nd Flr SF           0.269601\n",
       "Bsmt Full Bath       0.276258\n",
       "Half Bath            0.284871\n",
       "Open Porch SF        0.316262\n",
       "Wood Deck SF         0.328183\n",
       "BsmtFin SF 1         0.439284\n",
       "Fireplaces           0.474831\n",
       "TotRms AbvGrd        0.498574\n",
       "Mas Vnr Area         0.506983\n",
       "Years Since Remod    0.534985\n",
       "Full Bath            0.546118\n",
       "Years Before Sale    0.558979\n",
       "1st Flr SF           0.635185\n",
       "Garage Area          0.641425\n",
       "Total Bsmt SF        0.644012\n",
       "Garage Cars          0.648361\n",
       "Gr Liv Area          0.717596\n",
       "Overall Qual         0.801206\n",
       "SalePrice            1.000000\n",
       "Name: SalePrice, dtype: float64"
      ]
     },
     "execution_count": 129,
     "metadata": {},
     "output_type": "execute_result"
    }
   ],
   "source": [
    "# Heatmap of numerical feature in the training dataset\n",
    "num_features = transform_data.select_dtypes(['int', 'float'])\n",
    "corr_mat = num_features.corr()['SalePrice'].abs().sort_values()\n",
    "corr_mat"
   ]
  },
  {
   "cell_type": "code",
   "execution_count": 131,
   "metadata": {},
   "outputs": [],
   "source": [
    "# Keeping columns with correlation coefficient greater than 0.5\n",
    "corr_less = corr_mat[corr_mat > 0.5]"
   ]
  },
  {
   "cell_type": "code",
   "execution_count": 132,
   "metadata": {},
   "outputs": [],
   "source": [
    "# Remove columns with coefficent less than 0.5\n",
    "transform_data = transform_data.drop(corr_less.index, axis=1)"
   ]
  },
  {
   "cell_type": "code",
   "execution_count": 134,
   "metadata": {},
   "outputs": [],
   "source": [
    "# List of categorical columns\n",
    "nominal_features = [\"PID\", \"MS SubClass\", \"MS Zoning\", \"Street\", \"Alley\", \"Land Contour\", \"Lot Config\", \"Neighborhood\", \n",
    "                    \"Condition 1\", \"Condition 2\", \"Bldg Type\", \"House Style\", \"Roof Style\", \"Roof Matl\", \"Exterior 1st\", \n",
    "                    \"Exterior 2nd\", \"Mas Vnr Type\", \"Foundation\", \"Heating\", \"Central Air\", \"Garage Type\", \n",
    "                    \"Misc Feature\", \"Sale Type\", \"Sale Condition\"]"
   ]
  },
  {
   "cell_type": "code",
   "execution_count": 138,
   "metadata": {},
   "outputs": [],
   "source": [
    "# Filtering for columns in our tranform data\n",
    "trans_cat = []\n",
    "for i in nominal_features:\n",
    "    if i in transform_data.columns:\n",
    "        trans_cat.append(i)\n",
    "        \n",
    "# Counting unique values in each column\n",
    "unique_count = transform_data[trans_cat].apply(lambda x: len(x.value_counts())).sort_values()\n",
    "\n",
    "# Arbitrary cutoff of 10 unique count\n",
    "unique_count = unique_count[unique_count > 10].index\n",
    "# Dropping \n",
    "transform_data = transform_data.drop(unique_count, axis=1)"
   ]
  },
  {
   "cell_type": "code",
   "execution_count": 140,
   "metadata": {},
   "outputs": [],
   "source": [
    "# Converting the remaining text column to categorical type\n",
    "txt_col = transform_data.select_dtypes(include=['object'])\n",
    "for col in txt_col:\n",
    "    transform_data[col] = transform_data[col].astype('category')\n",
    "    \n",
    "# Creating dummy columns from txt columns and add back to dataframe\n",
    "transform_data = pd.concat([\n",
    "    transform_data, pd.get_dummies(transform_data.select_dtypes(include=['category']))\n",
    "], axis=1).drop(txt_col, axis=1)"
   ]
  },
  {
   "cell_type": "code",
   "execution_count": 142,
   "metadata": {},
   "outputs": [
    {
     "data": {
      "text/plain": [
       "33873.79511846208"
      ]
     },
     "execution_count": 142,
     "metadata": {},
     "output_type": "execute_result"
    }
   ],
   "source": [
    "# Update Function\n",
    "def transform_features(data):\n",
    "    five_pct = data.shape[0] * 0.05\n",
    "    missing = data.isnull().sum() \n",
    "    missing = missing[missing > five_pct]\n",
    "    data = data.drop(missing.index, axis = 1)\n",
    "    \n",
    "    text_missing = data.select_dtypes(include=['object']).isnull().sum()\n",
    "    text_missing = text_missing[text_missing > 0]\n",
    "    data = data.drop(text_missing.index, axis = 1)\n",
    "    \n",
    "    num_missing = data.select_dtypes(['int', 'float']).isnull().sum()\n",
    "    num_missing = num_missing[(num_missing < five_pct) & (num_missing > 0)]\n",
    "    replace = data[num_missing.index].mode().to_dict(orient='records')[0]\n",
    "    data = data.fillna(replace)\n",
    "    \n",
    "    years_sold = data['Yr Sold'] - data['Year Built']\n",
    "    years_since_remod = data['Yr Sold'] - data['Year Remod/Add']\n",
    "    data['Years Before Sale'] = years_sold\n",
    "    data['Years Since Remod'] = years_since_remod\n",
    "    data = data.drop([1702, 2180, 2181], axis= 0)\n",
    "    \n",
    "    data = data.drop(['Mo Sold', 'Sale Condition', 'Sale Type', 'Yr Sold', 'Year Built', 'Year Remod/Add',\n",
    "                      'PID', 'Order'], axis=1)\n",
    "    \n",
    "    return data\n",
    "\n",
    "def select_features(data, corr_coef=0.5, uniq_cutoff=10):\n",
    "    num_features = data.select_dtypes(['int', 'float'])\n",
    "    corr_mat = num_features.corr()['SalePrice'].abs().sort_values()\n",
    "    corr_less = corr_mat[corr_mat < corr_coef]\n",
    "    data = data.drop(corr_less.index, axis=1)\n",
    "    \n",
    "    nominal_features = [\"PID\", \"MS SubClass\", \"MS Zoning\", \"Street\", \"Alley\", \"Land Contour\", \"Lot Config\", \"Neighborhood\", \n",
    "                    \"Condition 1\", \"Condition 2\", \"Bldg Type\", \"House Style\", \"Roof Style\", \"Roof Matl\", \"Exterior 1st\", \n",
    "                    \"Exterior 2nd\", \"Mas Vnr Type\", \"Foundation\", \"Heating\", \"Central Air\", \"Garage Type\", \n",
    "                    \"Misc Feature\", \"Sale Type\", \"Sale Condition\"]\n",
    "    \n",
    "    trans_cat = []\n",
    "    for i in nominal_features:\n",
    "        if i in data.columns:\n",
    "            trans_cat.append(i)\n",
    "\n",
    "    unique_count = data[trans_cat].apply(lambda x: len(x.value_counts())).sort_values()\n",
    "    unique_count = unique_count[unique_count > 10].index\n",
    "    data = data.drop(unique_count, axis=1)\n",
    "    \n",
    "    txt_col = data.select_dtypes(include=['object'])\n",
    "    for col in txt_col:\n",
    "        data[col] = data[col].astype('category')\n",
    "\n",
    "    data = pd.concat([data, pd.get_dummies(data.select_dtypes(include=['category']))], axis=1).drop(txt_col, axis=1)\n",
    "    \n",
    "    return data\n",
    "\n",
    "def train_and_test(data):\n",
    "    train= data[:1460]\n",
    "    test = data[1460:]\n",
    "    \n",
    "    numeric_train = train.select_dtypes(include=['integer', 'float'])\n",
    "    numeric_test = test.select_dtypes(include= ['integer', 'float'])\n",
    "    \n",
    "    features = numeric_train.columns.drop(\"SalePrice\")\n",
    "    linreg = LinearRegression()\n",
    "    linreg.fit(train[features], train['SalePrice'])\n",
    "    predictions = linreg.predict(test[features])\n",
    "    mse = mean_squared_error(test['SalePrice'], predictions)\n",
    "    rmse = np.sqrt(mse)\n",
    "    \n",
    "    return rmse\n",
    "\n",
    "transform_data = transform_features(data)\n",
    "filtered_data = select_features(transform_data)\n",
    "rmse = train_and_test(filtered_data)\n",
    "\n",
    "rmse    \n",
    "    "
   ]
  },
  {
   "cell_type": "code",
   "execution_count": null,
   "metadata": {},
   "outputs": [],
   "source": []
  }
 ],
 "metadata": {
  "kernelspec": {
   "display_name": "Python 3.10.6 64-bit",
   "language": "python",
   "name": "python3"
  },
  "language_info": {
   "codemirror_mode": {
    "name": "ipython",
    "version": 3
   },
   "file_extension": ".py",
   "mimetype": "text/x-python",
   "name": "python",
   "nbconvert_exporter": "python",
   "pygments_lexer": "ipython3",
   "version": "3.10.6"
  },
  "orig_nbformat": 4,
  "vscode": {
   "interpreter": {
    "hash": "428a2680e134346dc6a50eeb15b5601ea447c297abbe5316187818ea532ba498"
   }
  }
 },
 "nbformat": 4,
 "nbformat_minor": 2
}
